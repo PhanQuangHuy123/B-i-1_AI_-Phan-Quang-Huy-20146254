{
  "nbformat": 4,
  "nbformat_minor": 0,
  "metadata": {
    "colab": {
      "provenance": [],
      "authorship_tag": "ABX9TyNrhpYLI9ppX/PHGU10ekef",
      "include_colab_link": true
    },
    "kernelspec": {
      "name": "python3",
      "display_name": "Python 3"
    },
    "language_info": {
      "name": "python"
    }
  },
  "cells": [
    {
      "cell_type": "markdown",
      "metadata": {
        "id": "view-in-github",
        "colab_type": "text"
      },
      "source": [
        "<a href=\"https://colab.research.google.com/github/PhanQuangHuy123/B-i-1_AI_-Phan-Quang-Huy-20146254/blob/main/AI_W12_21_04_2023(youtube).ipynb\" target=\"_parent\"><img src=\"https://colab.research.google.com/assets/colab-badge.svg\" alt=\"Open In Colab\"/></a>"
      ]
    },
    {
      "cell_type": "code",
      "execution_count": null,
      "metadata": {
        "colab": {
          "base_uri": "https://localhost:8080/"
        },
        "id": "FcRcIq2I4x5G",
        "outputId": "b64cb0e9-e166-49d9-ff86-bf5aa880a4e4"
      },
      "outputs": [
        {
          "output_type": "stream",
          "name": "stdout",
          "text": [
            "Looking in indexes: https://pypi.org/simple, https://us-python.pkg.dev/colab-wheels/public/simple/\n",
            "Collecting youtube-search\n",
            "  Downloading youtube_search-2.1.2-py3-none-any.whl (3.4 kB)\n",
            "Requirement already satisfied: requests in /usr/local/lib/python3.9/dist-packages (from youtube-search) (2.27.1)\n",
            "Requirement already satisfied: charset-normalizer~=2.0.0 in /usr/local/lib/python3.9/dist-packages (from requests->youtube-search) (2.0.12)\n",
            "Requirement already satisfied: certifi>=2017.4.17 in /usr/local/lib/python3.9/dist-packages (from requests->youtube-search) (2022.12.7)\n",
            "Requirement already satisfied: urllib3<1.27,>=1.21.1 in /usr/local/lib/python3.9/dist-packages (from requests->youtube-search) (1.26.15)\n",
            "Requirement already satisfied: idna<4,>=2.5 in /usr/local/lib/python3.9/dist-packages (from requests->youtube-search) (3.4)\n",
            "Installing collected packages: youtube-search\n",
            "Successfully installed youtube-search-2.1.2\n"
          ]
        }
      ],
      "source": [
        "pip install youtube-search"
      ]
    },
    {
      "cell_type": "code",
      "source": [
        "from youtube_search import YoutubeSearch\n",
        "import webbrowser\n",
        "mysong = input ('Nhap ten bai hat')\n",
        "result = YoutubeSearch(mysong,max_results=10).to_dict()\n",
        "print (result)\n",
        "print (result[0]['url_suffix'])\n",
        "url = 'http://www.youtube.com'+ result[0]['url_suffix']\n",
        "print(url)\n",
        "webbrowser.open(url)\n",
        "print ('Bài hát yêu thích của bạn đã được mở')"
      ],
      "metadata": {
        "colab": {
          "base_uri": "https://localhost:8080/"
        },
        "id": "dBHFLEjZ47YV",
        "outputId": "674678a9-21a9-4941-e260-53d58816012b"
      },
      "execution_count": null,
      "outputs": [
        {
          "output_type": "stream",
          "name": "stdout",
          "text": [
            "Nhap ten bai hatcó em\n",
            "[{'id': 'DcCISK3sCYg', 'thumbnails': ['https://i.ytimg.com/vi/DcCISK3sCYg/hq720.jpg?sqp=-oaymwEjCOgCEMoBSFryq4qpAxUIARUAAAAAGAElAADIQj0AgKJDeAE=&rs=AOn4CLAthFejnm84Psp_uKGLQDX9wkwz2A', 'https://i.ytimg.com/vi/DcCISK3sCYg/hq720.jpg?sqp=-oaymwEXCNAFEJQDSFryq4qpAwkIARUAAIhCGAE=&rs=AOn4CLCbJMWmWVZqsaHwaJ2Hza4x_I3p8w'], 'title': 'Madihu - Có em (Feat. Low G) [Official MV]', 'long_desc': None, 'channel': 'Madihu', 'duration': '3:46', 'views': '34.177.294 weergaven', 'publish_time': '11 maanden geleden', 'url_suffix': '/watch?v=DcCISK3sCYg&pp=ygUGY8OzIGVt'}, {'id': 'gyBVKtowcXA', 'thumbnails': ['https://i.ytimg.com/vi/gyBVKtowcXA/hq720.jpg?sqp=-oaymwEjCOgCEMoBSFryq4qpAxUIARUAAAAAGAElAADIQj0AgKJDeAE=&rs=AOn4CLBVbAmd-FAhpsEC9wsB1u9kMTb45w', 'https://i.ytimg.com/vi/gyBVKtowcXA/hq720.jpg?sqp=-oaymwEXCNAFEJQDSFryq4qpAwkIARUAAIhCGAE=&rs=AOn4CLAJKCjFdI38vqS9ZmF8oQEvUBXasw'], 'title': 'Madihu - Có Em (Solo Version)', 'long_desc': None, 'channel': 'Madihu', 'duration': '3:38', 'views': '583.300 weergaven', 'publish_time': '5 maanden geleden', 'url_suffix': '/watch?v=gyBVKtowcXA&pp=ygUGY8OzIGVt'}, {'id': 'BocVOnF0dv8', 'thumbnails': ['https://i.ytimg.com/vi/BocVOnF0dv8/hq720.jpg?sqp=-oaymwEjCOgCEMoBSFryq4qpAxUIARUAAAAAGAElAADIQj0AgKJDeAE=&rs=AOn4CLBi3z92znjoSixYLnJRHikLcCl9iQ', 'https://i.ytimg.com/vi/BocVOnF0dv8/hq720.jpg?sqp=-oaymwEXCNAFEJQDSFryq4qpAwkIARUAAIhCGAE=&rs=AOn4CLC14d23WDJQGTmy73XjwBb7SnCGaQ'], 'title': 'Nếu mai sau anh và em có già...Đừng lo có anh đây- Lofi Chill  - Nhạc Trẻ Lofi Chill Hay Nhất 2022', 'long_desc': None, 'channel': 'Cryz T', 'duration': '55:41', 'views': '2.125.577 weergaven', 'publish_time': '4 maanden geleden', 'url_suffix': '/watch?v=BocVOnF0dv8&pp=ygUGY8OzIGVt'}, {'id': 'fnmflTYfuAU', 'thumbnails': ['https://i.ytimg.com/vi/fnmflTYfuAU/hq720.jpg?sqp=-oaymwEjCOgCEMoBSFryq4qpAxUIARUAAAAAGAElAADIQj0AgKJDeAE=&rs=AOn4CLBcybiIYjDDC8AQpxnbnOjCj2MDgA', 'https://i.ytimg.com/vi/fnmflTYfuAU/hq720.jpg?sqp=-oaymwEXCNAFEJQDSFryq4qpAwkIARUAAIhCGAE=&rs=AOn4CLD0tIRIejDXyueTGcJAMkWDH1GbPQ'], 'title': 'LK Mùa Xuân Đó Có Em - NHẠC XUÂN Đời Lính Bất Hủ ĐAN NGUYÊN, DUY KHÁNH, TUẤN VŨ, TRƯỜNG VŨ', 'long_desc': None, 'channel': 'Đan Nguyên Bolero', 'duration': '1:44:36', 'views': '3.567.135 weergaven', 'publish_time': '3 jaar geleden', 'url_suffix': '/watch?v=fnmflTYfuAU&pp=ygUGY8OzIGVt'}, {'id': 'hqr7163popA', 'thumbnails': ['https://i.ytimg.com/vi/hqr7163popA/hq720.jpg?sqp=-oaymwE9COgCEMoBSFryq4qpAy8IARUAAAAAGAElAADIQj0AgKJDeAHwAQH4Af4JgALQBYoCDAgAEAEYUyBlKGUwDw==&rs=AOn4CLDW6MXir1qOHNZCm14eq29JlxJWXA', 'https://i.ytimg.com/vi/hqr7163popA/hq720.jpg?sqp=-oaymwExCNAFEJQDSFryq4qpAyMIARUAAIhCGAHwAQH4Af4JgALQBYoCDAgAEAEYUyBlKGUwDw==&rs=AOn4CLAeVqWIC62AZZktnVy-SXgX5kVdyQ'], 'title': 'Làm bánh và kể chuyện | Cre: Cô Em Thú Vị #71', 'long_desc': None, 'channel': 'Quỳnh Silme', 'duration': '9:55', 'views': '29.951 weergaven', 'publish_time': '2 dagen geleden', 'url_suffix': '/watch?v=hqr7163popA&pp=ygUGY8OzIGVt'}, {'id': 'pqtGVjYTMSs', 'thumbnails': ['https://i.ytimg.com/vi/pqtGVjYTMSs/hq720.jpg?sqp=-oaymwEjCOgCEMoBSFryq4qpAxUIARUAAAAAGAElAADIQj0AgKJDeAE=&rs=AOn4CLCq9ZOVY2wU7itMaXHyAMb32ZR0CA', 'https://i.ytimg.com/vi/pqtGVjYTMSs/hq720.jpg?sqp=-oaymwEXCNAFEJQDSFryq4qpAwkIARUAAIhCGAE=&rs=AOn4CLDC7oDs3Snii-VsJ87TWsQVg6ixjw'], 'title': 'Có em - Madihu ft. Low G ( Lyrics )', 'long_desc': None, 'channel': 'Fax', 'duration': '3:39', 'views': '29.077 weergaven', 'publish_time': '10 maanden geleden', 'url_suffix': '/watch?v=pqtGVjYTMSs&pp=ygUGY8OzIGVt'}, {'id': 'Ex9nHyRhWaU', 'thumbnails': ['https://i.ytimg.com/vi/Ex9nHyRhWaU/hq720.jpg?sqp=-oaymwEjCOgCEMoBSFryq4qpAxUIARUAAAAAGAElAADIQj0AgKJDeAE=&rs=AOn4CLAFsSp-NdMFH1wSI-iXOAHeZShFyQ', 'https://i.ytimg.com/vi/Ex9nHyRhWaU/hq720.jpg?sqp=-oaymwEXCNAFEJQDSFryq4qpAwkIARUAAIhCGAE=&rs=AOn4CLCqFmenapuv-3rqHmdmLAor9BRQjw'], 'title': '[1 Hour] Có Em - Madihu feat. Low G', 'long_desc': None, 'channel': 'Fax [1 Hour]', 'duration': '1:00:01', 'views': '69.951 weergaven', 'publish_time': '10 maanden geleden', 'url_suffix': '/watch?v=Ex9nHyRhWaU&pp=ygUGY8OzIGVt'}, {'id': 'pcHWIjti5tE', 'thumbnails': ['https://i.ytimg.com/vi/pcHWIjti5tE/hq720.jpg?sqp=-oaymwEjCOgCEMoBSFryq4qpAxUIARUAAAAAGAElAADIQj0AgKJDeAE=&rs=AOn4CLBANpxYWlwPYZ6CZOxR4C6zErjqMw', 'https://i.ytimg.com/vi/pcHWIjti5tE/hq720.jpg?sqp=-oaymwEXCNAFEJQDSFryq4qpAwkIARUAAIhCGAE=&rs=AOn4CLD7Cv6YQkq4s7X8De5Y_UA2f2EWEQ'], 'title': \"Lynk Nguyen / 'Biet Em (Since I Know You)' M/V\", 'long_desc': None, 'channel': 'Jazzy Baby Official', 'duration': '2:10', 'views': '1.097.862 weergaven', 'publish_time': '2 jaar geleden', 'url_suffix': '/watch?v=pcHWIjti5tE&pp=ygUGY8OzIGVt'}, {'id': 'ptjIgI8PhrE', 'thumbnails': ['https://i.ytimg.com/vi/ptjIgI8PhrE/hqdefault.jpg?sqp=-oaymwEjCOADEI4CSFryq4qpAxUIARUAAAAAGAElAADIQj0AgKJDeAE=&rs=AOn4CLDvzZb-WlBon-AlxON6Q5t0MuDBoQ'], 'title': 'Chỉ Có Em - Hoàng Tôn ft Kay Trần ft Bảo Kun (Official MV)', 'long_desc': None, 'channel': 'Zing MP3', 'duration': '5:18', 'views': '21.925.991 weergaven', 'publish_time': '9 jaar geleden', 'url_suffix': '/watch?v=ptjIgI8PhrE&pp=ygUGY8OzIGVt'}, {'id': 'xlA9kKJ30ps', 'thumbnails': ['https://i.ytimg.com/vi/xlA9kKJ30ps/hq720.jpg?sqp=-oaymwEjCOgCEMoBSFryq4qpAxUIARUAAAAAGAElAADIQj0AgKJDeAE=&rs=AOn4CLCfwaIle6afeuYkgHVk_VCVCtM3Uw', 'https://i.ytimg.com/vi/xlA9kKJ30ps/hq720.jpg?sqp=-oaymwEXCNAFEJQDSFryq4qpAwkIARUAAIhCGAE=&rs=AOn4CLCue6cFYkyxNFViCpxEdCEu1cb2iQ'], 'title': 'Chỉ Có Em - Hoàng Tôn [Video Lyrics / Kara]', 'long_desc': None, 'channel': 'Bảo Anh', 'duration': '4:13', 'views': '3.352.622 weergaven', 'publish_time': '9 jaar geleden', 'url_suffix': '/watch?v=xlA9kKJ30ps&pp=ygUGY8OzIGVt'}]\n",
            "/watch?v=DcCISK3sCYg&pp=ygUGY8OzIGVt\n",
            "http://www.youtube.com/watch?v=DcCISK3sCYg&pp=ygUGY8OzIGVt\n",
            "Bài hát yêu thích của bạn đã được mở \n"
          ]
        }
      ]
    },
    {
      "cell_type": "code",
      "source": [],
      "metadata": {
        "id": "cfxej7Ub5_Ox"
      },
      "execution_count": null,
      "outputs": []
    }
  ]
}