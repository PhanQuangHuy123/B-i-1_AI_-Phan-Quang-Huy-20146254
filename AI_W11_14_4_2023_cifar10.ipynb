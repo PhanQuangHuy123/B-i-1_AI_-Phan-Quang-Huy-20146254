{
  "nbformat": 4,
  "nbformat_minor": 0,
  "metadata": {
    "colab": {
      "provenance": [],
      "mount_file_id": "10dh0DubZHvzAB2K5TAywU1LSb5IZKjgG",
      "authorship_tag": "ABX9TyNKQDT6LLjPDYpLXh/70mMy",
      "include_colab_link": true
    },
    "kernelspec": {
      "name": "python3",
      "display_name": "Python 3"
    },
    "language_info": {
      "name": "python"
    },
    "accelerator": "GPU",
    "gpuClass": "standard"
  },
  "cells": [
    {
      "cell_type": "markdown",
      "metadata": {
        "id": "view-in-github",
        "colab_type": "text"
      },
      "source": [
        "<a href=\"https://colab.research.google.com/github/PhanQuangHuy123/B-i-1_AI_-Phan-Quang-Huy-20146254/blob/main/AI_W11_14_4_2023_cifar10.ipynb\" target=\"_parent\"><img src=\"https://colab.research.google.com/assets/colab-badge.svg\" alt=\"Open In Colab\"/></a>"
      ]
    },
    {
      "cell_type": "code",
      "execution_count": null,
      "metadata": {
        "id": "h_vn8qFNsl48"
      },
      "outputs": [],
      "source": [
        "import matplotlib.pyplot as plt\n",
        "from keras.datasets import cifar10\n",
        "(x_train,y_train) , (x_test,y_test) = cifar10.load_data()"
      ]
    },
    {
      "cell_type": "code",
      "source": [
        "x_train.shape"
      ],
      "metadata": {
        "colab": {
          "base_uri": "https://localhost:8080/"
        },
        "id": "qKMGyu-6vwSx",
        "outputId": "a38e8ec0-251f-4e17-8bb7-783dab7bb0f2"
      },
      "execution_count": null,
      "outputs": [
        {
          "output_type": "execute_result",
          "data": {
            "text/plain": [
              "(50000, 32, 32, 3)"
            ]
          },
          "metadata": {},
          "execution_count": 14
        }
      ]
    },
    {
      "cell_type": "code",
      "source": [
        "x_test.shape"
      ],
      "metadata": {
        "colab": {
          "base_uri": "https://localhost:8080/"
        },
        "id": "ha90_vRiwgEK",
        "outputId": "bf3cd3fd-14fe-4fea-8f6f-e03ab5137401"
      },
      "execution_count": null,
      "outputs": [
        {
          "output_type": "execute_result",
          "data": {
            "text/plain": [
              "(10000, 32, 32, 3)"
            ]
          },
          "metadata": {},
          "execution_count": 15
        }
      ]
    },
    {
      "cell_type": "code",
      "source": [
        "y_test.shape"
      ],
      "metadata": {
        "colab": {
          "base_uri": "https://localhost:8080/"
        },
        "id": "_V7g_fbFwhlJ",
        "outputId": "cce504da-4f09-4752-b7af-b1c44b48a7c1"
      },
      "execution_count": null,
      "outputs": [
        {
          "output_type": "execute_result",
          "data": {
            "text/plain": [
              "(10000, 1)"
            ]
          },
          "metadata": {},
          "execution_count": 16
        }
      ]
    },
    {
      "cell_type": "code",
      "source": [
        "x_test = x_test.astype('float32')/255\n",
        "x_train = x_train.astype ('float32')/255"
      ],
      "metadata": {
        "id": "AfRaKcfxxOph"
      },
      "execution_count": null,
      "outputs": []
    },
    {
      "cell_type": "code",
      "source": [
        "from keras.utils import to_categorical\n",
        "y_train = to_categorical(y_train,10)\n",
        "y_test = to_categorical(y_test,10)"
      ],
      "metadata": {
        "id": "iJiHUcYtwkCh"
      },
      "execution_count": null,
      "outputs": []
    },
    {
      "cell_type": "code",
      "source": [
        "from keras.models import Sequential\n",
        "from keras.layers import Dense , Dropout , Flatten,Conv2D, MaxPooling2D, Normalization, LeakyReLU\n",
        "from keras.optimizers import Adam \n",
        "model = Sequential()\n",
        "#32 Lần tích chập\n",
        "model.add(Conv2D(32,kernel_size=(3,3),\n",
        "                 activation= 'relu', input_shape=(32,32,3),\n",
        "                 padding = 'Same'))\n",
        "model.add(LeakyReLU(alpha=0.1))\n",
        "model.add(MaxPooling2D((2,2),padding='Same' ))\n",
        "model.add(Dropout(0.25))\n",
        "#64 lần tích chập \n",
        "model.add(Conv2D(64,kernel_size=(3,3),\n",
        "                 activation= 'relu',\n",
        "                 padding = 'Same'))\n",
        "model.add(LeakyReLU(alpha=0.1))\n",
        "model.add(MaxPooling2D((2,2),padding='Same' ))\n",
        "model.add(Dropout(0.25))\n",
        "# #128 lần tích chập \n",
        "# model.add(Conv2D(128,kernel_size=(3,3),\n",
        "#                  activation= 'linear', \n",
        "#                  padding = 'Same'))\n",
        "# model.add(LeakyReLU(alpha=0.1))\n",
        "# model.add(MaxPooling2D((2,2),padding='Same' ))\n",
        "# model.add(Dropout(0.25))"
      ],
      "metadata": {
        "id": "XMh1ejB7wlxM"
      },
      "execution_count": null,
      "outputs": []
    },
    {
      "cell_type": "code",
      "source": [
        "model.add(Flatten())\n",
        "model.add(Dense(128,activation = 'relu'))\n",
        "model.add(LeakyReLU(alpha=0.1))\n",
        "model.add(Dense(10,activation ='Softmax'))\n",
        "from keras.losses import categorical_crossentropy\n",
        "model.compile(loss=categorical_crossentropy,optimizer =Adam(),metrics =['accuracy'])\n",
        "model.summary()\n",
        "train = model.fit(x_train , y_train , batch_size = 64, epochs = 20, verbose=1)"
      ],
      "metadata": {
        "colab": {
          "base_uri": "https://localhost:8080/"
        },
        "id": "hBqgBrEHyV93",
        "outputId": "3ce2069e-08ea-4544-c2d0-14cae0e6faec"
      },
      "execution_count": null,
      "outputs": [
        {
          "output_type": "stream",
          "name": "stdout",
          "text": [
            "Model: \"sequential_2\"\n",
            "_________________________________________________________________\n",
            " Layer (type)                Output Shape              Param #   \n",
            "=================================================================\n",
            " conv2d_4 (Conv2D)           (None, 32, 32, 32)        896       \n",
            "                                                                 \n",
            " leaky_re_lu_7 (LeakyReLU)   (None, 32, 32, 32)        0         \n",
            "                                                                 \n",
            " max_pooling2d_4 (MaxPooling  (None, 16, 16, 32)       0         \n",
            " 2D)                                                             \n",
            "                                                                 \n",
            " dropout_4 (Dropout)         (None, 16, 16, 32)        0         \n",
            "                                                                 \n",
            " conv2d_5 (Conv2D)           (None, 16, 16, 64)        18496     \n",
            "                                                                 \n",
            " leaky_re_lu_8 (LeakyReLU)   (None, 16, 16, 64)        0         \n",
            "                                                                 \n",
            " max_pooling2d_5 (MaxPooling  (None, 8, 8, 64)         0         \n",
            " 2D)                                                             \n",
            "                                                                 \n",
            " dropout_5 (Dropout)         (None, 8, 8, 64)          0         \n",
            "                                                                 \n",
            " flatten_3 (Flatten)         (None, 4096)              0         \n",
            "                                                                 \n",
            " dense_6 (Dense)             (None, 128)               524416    \n",
            "                                                                 \n",
            " leaky_re_lu_9 (LeakyReLU)   (None, 128)               0         \n",
            "                                                                 \n",
            " dense_7 (Dense)             (None, 10)                1290      \n",
            "                                                                 \n",
            "=================================================================\n",
            "Total params: 545,098\n",
            "Trainable params: 545,098\n",
            "Non-trainable params: 0\n",
            "_________________________________________________________________\n",
            "Epoch 1/20\n",
            "782/782 [==============================] - 13s 5ms/step - loss: 1.4722 - accuracy: 0.4719\n",
            "Epoch 2/20\n",
            "782/782 [==============================] - 4s 5ms/step - loss: 1.1195 - accuracy: 0.6061\n",
            "Epoch 3/20\n",
            "782/782 [==============================] - 4s 5ms/step - loss: 0.9918 - accuracy: 0.6504\n",
            "Epoch 4/20\n",
            "782/782 [==============================] - 4s 5ms/step - loss: 0.9135 - accuracy: 0.6804\n",
            "Epoch 5/20\n",
            "782/782 [==============================] - 5s 6ms/step - loss: 0.8540 - accuracy: 0.7012\n",
            "Epoch 6/20\n",
            "782/782 [==============================] - 4s 5ms/step - loss: 0.8029 - accuracy: 0.7178\n",
            "Epoch 7/20\n",
            "782/782 [==============================] - 4s 5ms/step - loss: 0.7606 - accuracy: 0.7320\n",
            "Epoch 8/20\n",
            "782/782 [==============================] - 4s 6ms/step - loss: 0.7186 - accuracy: 0.7465\n",
            "Epoch 9/20\n",
            "782/782 [==============================] - 4s 5ms/step - loss: 0.6916 - accuracy: 0.7549\n",
            "Epoch 10/20\n",
            "782/782 [==============================] - 4s 5ms/step - loss: 0.6524 - accuracy: 0.7685\n",
            "Epoch 11/20\n",
            "782/782 [==============================] - 4s 5ms/step - loss: 0.6168 - accuracy: 0.7807\n",
            "Epoch 12/20\n",
            "782/782 [==============================] - 4s 6ms/step - loss: 0.5917 - accuracy: 0.7903\n",
            "Epoch 13/20\n",
            "782/782 [==============================] - 4s 5ms/step - loss: 0.5632 - accuracy: 0.8009\n",
            "Epoch 14/20\n",
            "782/782 [==============================] - 4s 5ms/step - loss: 0.5421 - accuracy: 0.8077\n",
            "Epoch 15/20\n",
            "782/782 [==============================] - 5s 6ms/step - loss: 0.5177 - accuracy: 0.8170\n",
            "Epoch 16/20\n",
            "782/782 [==============================] - 4s 5ms/step - loss: 0.5038 - accuracy: 0.8191\n",
            "Epoch 17/20\n",
            "782/782 [==============================] - 4s 5ms/step - loss: 0.4713 - accuracy: 0.8337\n",
            "Epoch 18/20\n",
            "782/782 [==============================] - 4s 5ms/step - loss: 0.4525 - accuracy: 0.8380\n",
            "Epoch 19/20\n",
            "782/782 [==============================] - 4s 5ms/step - loss: 0.4393 - accuracy: 0.8429\n",
            "Epoch 20/20\n",
            "782/782 [==============================] - 4s 5ms/step - loss: 0.4231 - accuracy: 0.8481\n"
          ]
        }
      ]
    },
    {
      "cell_type": "code",
      "source": [
        "model.save(\"cifar10.h5\")"
      ],
      "metadata": {
        "id": "hkXLIq2Ny0Ao"
      },
      "execution_count": null,
      "outputs": []
    },
    {
      "cell_type": "code",
      "source": [
        "from google.colab import drive\n",
        "drive.mount('/content/drive')"
      ],
      "metadata": {
        "colab": {
          "base_uri": "https://localhost:8080/"
        },
        "id": "q5X250-c0YAB",
        "outputId": "cb2d7794-42e1-4c40-903e-bc8cbc7a05b0"
      },
      "execution_count": null,
      "outputs": [
        {
          "output_type": "stream",
          "name": "stdout",
          "text": [
            "Drive already mounted at /content/drive; to attempt to forcibly remount, call drive.mount(\"/content/drive\", force_remount=True).\n"
          ]
        }
      ]
    },
    {
      "cell_type": "code",
      "source": [
        "import matplotlib.pyplot as plt \n",
        "from keras.utils.image_utils import img_to_array\n",
        "from keras.models import Sequential, load_model\n",
        "from keras.utils import load_img\n",
        "import numpy as np \n",
        "\n",
        "\n",
        "img = load_img('/content/drive/MyDrive/tiger-2535888__340.jpg',target_size = (32,32,3))\n",
        "plt.imshow(img)\n",
        "img = img_to_array(img)\n",
        "img = img.reshape(1,32*32*3)\n",
        "img = img.astype('float32')\n",
        "img = img/255\n",
        "model = load_model('/content/drive/MyDrive/cifar10.h5')\n",
        "np.argmax(model.predict(img), axis = -1)"
      ],
      "metadata": {
        "id": "224A45bo0bcQ"
      },
      "execution_count": null,
      "outputs": []
    }
  ]
}